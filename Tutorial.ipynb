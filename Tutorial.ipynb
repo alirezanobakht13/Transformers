{
 "cells": [
  {
   "cell_type": "markdown",
   "metadata": {},
   "source": [
    "# Transformers From Scratch\n"
   ]
  },
  {
   "cell_type": "markdown",
   "metadata": {},
   "source": [
    "## Initialization\n"
   ]
  },
  {
   "cell_type": "code",
   "execution_count": 1,
   "metadata": {},
   "outputs": [
    {
     "name": "stdout",
     "output_type": "stream",
     "text": [
      "cuda\n"
     ]
    }
   ],
   "source": [
    "from typing import Tuple\n",
    "\n",
    "import matplotlib.pyplot as plt\n",
    "import torch\n",
    "import torch.nn as nn\n",
    "from torch.nn import functional as F\n",
    "from torch.types import (\n",
    "    _device,\n",
    "    _int,\n",
    "    _size,\n",
    "    _TensorOrTensors,\n",
    ")  # used for type hinting. helps intellisense to detect types and also readers to understand each variables easier\n",
    "\n",
    "from my_transformer import set_seed\n",
    "\n",
    "set_seed(1999)  # set seed for reproducible results\n",
    "\n",
    "device = (\n",
    "    \"cuda\" if torch.cuda.is_available() else \"cpu\"\n",
    ")  # run on gpu for faster optimization if it's available\n",
    "print(device)"
   ]
  },
  {
   "cell_type": "markdown",
   "metadata": {},
   "source": [
    "Loading the sample text to train and validate the implemented gpt model.\n"
   ]
  },
  {
   "cell_type": "code",
   "execution_count": 2,
   "metadata": {},
   "outputs": [
    {
     "name": "stdout",
     "output_type": "stream",
     "text": [
      "First Citizen:\n",
      "Before we proceed any further, hear me speak.\n",
      "\n",
      "All:\n",
      "Speak, speak.\n",
      "\n",
      "First Citizen:\n",
      "You are all resolved rather to die than to famish?\n",
      "\n",
      "All:\n",
      "Resolved. resolved.\n",
      "\n",
      "First Citizen:\n",
      "First, you\n"
     ]
    }
   ],
   "source": [
    "with open(\"assets/input.txt\", \"r\") as f:\n",
    "    text = f.read()\n",
    "\n",
    "print(text[:200])"
   ]
  },
  {
   "cell_type": "markdown",
   "metadata": {},
   "source": [
    "List of all characters in the dataset\n"
   ]
  },
  {
   "cell_type": "code",
   "execution_count": 3,
   "metadata": {},
   "outputs": [
    {
     "name": "stdout",
     "output_type": "stream",
     "text": [
      "\"\\n !$&',-.3:;?ABCDEFGHIJKLMNOPQRSTUVWXYZabcdefghijklmnopqrstuvwxyz\"\n"
     ]
    },
    {
     "data": {
      "text/plain": [
       "65"
      ]
     },
     "execution_count": 3,
     "metadata": {},
     "output_type": "execute_result"
    }
   ],
   "source": [
    "chars = sorted(list(set(text)))\n",
    "print(repr(\"\".join(chars)))\n",
    "vocab_size = len(chars)\n",
    "vocab_size"
   ]
  },
  {
   "cell_type": "markdown",
   "metadata": {},
   "source": [
    "Encode and Decode"
   ]
  },
  {
   "cell_type": "code",
   "execution_count": 4,
   "metadata": {},
   "outputs": [
    {
     "name": "stdout",
     "output_type": "stream",
     "text": [
      "[32, 46, 47, 57, 1, 51, 59, 57, 58, 1, 40, 43, 1, 54, 56, 53, 54, 43, 56, 50, 63, 1, 43, 52, 41, 53, 42, 43, 42, 1, 39, 52, 42, 1, 42, 43, 41, 53, 42, 43, 42, 2]\n",
      "This must be properly encoded and decoded!\n"
     ]
    }
   ],
   "source": [
    "cton = {c: n for n, c in enumerate(chars)}  # Character to number lookup table\n",
    "ntoc = {n: c for n, c in enumerate(chars)}  # Number to character lookup table\n",
    "\n",
    "\n",
    "def encode(s: list[str] | str):\n",
    "    return [cton[c] for c in s]\n",
    "\n",
    "\n",
    "def decode(e: list[int] | torch.Tensor | int):\n",
    "    if isinstance(e, torch.Tensor):\n",
    "        e = e.tolist()\n",
    "    if isinstance(e, int):\n",
    "        return ntoc[e]\n",
    "    return [ntoc[n] for n in e]\n",
    "\n",
    "\n",
    "test_text = \"This must be properly encoded and decoded!\"  # make sure all the characters all available in the loaded text file.\n",
    "enc_test = encode(test_text)\n",
    "print(enc_test)\n",
    "dec_text = decode(enc_test)\n",
    "print(\"\".join(dec_text))"
   ]
  },
  {
   "cell_type": "markdown",
   "metadata": {},
   "source": [
    "Get mini-batch of dataset"
   ]
  },
  {
   "cell_type": "code",
   "execution_count": 5,
   "metadata": {},
   "outputs": [],
   "source": [
    "def get_batch(\n",
    "    train: torch.Tensor, validation: torch.Tensor, batch_size: int, context_length: int\n",
    ") -> Tuple[torch.Tensor, torch.Tensor]:\n",
    "    \"\"\"get mini-batch from given train and validation datasets\n",
    "\n",
    "    Args:\n",
    "        train (torch.Tensor): input dataset\n",
    "        validation (torch.Tensor): validation dataset\n",
    "        batch_size (int): batch size\n",
    "        context_length (int): length window in time dimension\n",
    "\n",
    "    Returns:\n",
    "        Tuple[torch.Tensor, torch.Tensor]: mini-batch of train (batch_size, context_length, feature_size), mini-batch of validation (batch_size, context_length)\n",
    "    \"\"\"\n",
    "\n",
    "    assert train.size(0) == validation.size(\n",
    "        0\n",
    "    ), \"Train and validation should be have same size for dim 0\"\n",
    "\n",
    "    validation = torch.roll(validation, -1)  # To align input and label\n",
    "\n",
    "    offsets = torch.randint(train.size(0) - context_length, (batch_size,))\n",
    "    x = torch.stack([train[i : i + context_length] for i in offsets])\n",
    "    y = torch.stack([validation[i : i + context_length] for i in offsets])\n",
    "\n",
    "    return x, y"
   ]
  },
  {
   "cell_type": "markdown",
   "metadata": {},
   "source": [
    "Example of getting mini-batch for test text. run this multiple time to see multiple examples.\n"
   ]
  },
  {
   "cell_type": "code",
   "execution_count": 6,
   "metadata": {},
   "outputs": [
    {
     "name": "stdout",
     "output_type": "stream",
     "text": [
      "tensor([[42, 59, 39, 11,  1, 58, 46, 43, 56, 43,  1, 58],\n",
      "        [57,  1, 57, 41, 39, 40, 57, 12,  0,  0, 18, 47]]) tensor([[59, 39, 11,  1, 58, 46, 43, 56, 43,  1, 58, 53],\n",
      "        [ 1, 57, 41, 39, 40, 57, 12,  0,  0, 18, 47, 56]])\n",
      "given 'd', -> 'u'\n",
      "given 'du', -> 'a'\n",
      "given 'dua', -> ';'\n",
      "given 'dua;', -> ' '\n",
      "given 'dua; ', -> 't'\n",
      "given 'dua; t', -> 'h'\n",
      "given 'dua; th', -> 'e'\n",
      "given 'dua; the', -> 'r'\n",
      "given 'dua; ther', -> 'e'\n",
      "given 'dua; there', -> ' '\n",
      "given 'dua; there ', -> 't'\n",
      "given 'dua; there t', -> 'o'\n",
      "given 's', -> ' '\n",
      "given 's ', -> 's'\n",
      "given 's s', -> 'c'\n",
      "given 's sc', -> 'a'\n",
      "given 's sca', -> 'b'\n",
      "given 's scab', -> 's'\n",
      "given 's scabs', -> '?'\n",
      "given 's scabs?', -> '\\n'\n",
      "given 's scabs?\\n', -> '\\n'\n",
      "given 's scabs?\\n\\n', -> 'F'\n",
      "given 's scabs?\\n\\nF', -> 'i'\n",
      "given 's scabs?\\n\\nFi', -> 'r'\n"
     ]
    }
   ],
   "source": [
    "inp_tensor = torch.tensor(encode(text))\n",
    "\n",
    "batch_size = 2\n",
    "context_length = 12\n",
    "inp_mini_batch, target_mini_batch = get_batch(\n",
    "    inp_tensor, inp_tensor, batch_size, context_length\n",
    ")\n",
    "print(inp_mini_batch, target_mini_batch)\n",
    "\n",
    "for b in range(batch_size):\n",
    "    for i in range(context_length):\n",
    "        print(\n",
    "            f\"given {repr(''.join(decode(inp_mini_batch[b][:i+1])))}, -> {repr(decode(target_mini_batch[b][i]))}\"\n",
    "        )"
   ]
  },
  {
   "cell_type": "markdown",
   "metadata": {},
   "source": [
    "### Generate function\n"
   ]
  },
  {
   "cell_type": "code",
   "execution_count": 7,
   "metadata": {},
   "outputs": [],
   "source": [
    "@torch.no_grad\n",
    "def text_generate(\n",
    "    model: nn.Module,\n",
    "    initial_token: torch.Tensor,\n",
    "    max_new_tokens: int,\n",
    "    context_length: int | None = None,\n",
    "):\n",
    "    training = model.training\n",
    "    model.eval()  # set model to eval mode\n",
    "\n",
    "    # make it batch-like if it is only a token\n",
    "    if initial_token.dim() == 1:\n",
    "        initial_token = initial_token.view(1, -1)  # of size (batch_size, 1)\n",
    "    tokens = initial_token  # of size (batch_size, context_size)\n",
    "    for i in range(max_new_tokens):\n",
    "        logits = model(\n",
    "            tokens[:, -context_length:] if context_length else tokens\n",
    "        )  # of size (batch_size, context_size, channel_size)\n",
    "        # get the last element in context dimension:\n",
    "        logits = logits[:, -1, :]  # size becomes (batch_size, channel_size)\n",
    "        # get probability of each token in output\n",
    "        probs = F.softmax(logits, dim=-1)  # compute softmax on the last dimension\n",
    "        # sample token\n",
    "        next_token = torch.multinomial(probs, num_samples=1)  # of size (batch_size, 1)\n",
    "        # add new token to existing ones\n",
    "        tokens = torch.cat((tokens, next_token), dim=-1)  # concat on last dimension\n",
    "\n",
    "    if training:  # if given model was on train mode, return it to that state\n",
    "        model.train()\n",
    "    return tokens"
   ]
  },
  {
   "cell_type": "markdown",
   "metadata": {},
   "source": [
    "Simple test for text generator function\n"
   ]
  },
  {
   "cell_type": "code",
   "execution_count": 8,
   "metadata": {},
   "outputs": [
    {
     "name": "stdout",
     "output_type": "stream",
     "text": [
      "\n",
      "f\n",
      "yl!f!!nPXr qsA&u\n",
      "za OMZmVZm3iLWX3cD.LkTCYad'rlKacTx v;UofvxbMLVq-WtPO;Z&V!eHRSuXxXJoJoBg3xvJkYcjQ:\n"
     ]
    }
   ],
   "source": [
    "test_model = nn.Embedding(\n",
    "    vocab_size, vocab_size\n",
    ")  # instantiate a simple vocab_size * vocab_size lookup table\n",
    "\n",
    "tokens = text_generate(test_model, torch.zeros((1,), dtype=torch.long), 100)\n",
    "print(\"\".join(decode(tokens[0])))  # see generated text of the first batch"
   ]
  },
  {
   "cell_type": "markdown",
   "metadata": {},
   "source": [
    "### Train loop\n"
   ]
  },
  {
   "cell_type": "code",
   "execution_count": 9,
   "metadata": {},
   "outputs": [],
   "source": [
    "def train(\n",
    "    model: nn.Module,\n",
    "    train_x: torch.Tensor,\n",
    "    train_y: torch.Tensor,\n",
    "    iter: int,\n",
    "    batch_size: int,\n",
    "    context_length: int,\n",
    "    lr: float = 1e-3,\n",
    "    step_verbose: int | None = None,\n",
    ") -> list:\n",
    "    \"\"\"Train given model on given dataset\n",
    "\n",
    "    Args:\n",
    "        model (nn.Module): model you want to train\n",
    "        train_x (torch.Tensor): train input\n",
    "        train_y (torch.Tensor): train label\n",
    "        iter (int): number of iterations to train the model\n",
    "        batch_size (int): batch size\n",
    "        context_length (int): context length\n",
    "        lr (float, optional): learning rate. Defaults to 1e-3.\n",
    "        step_verbose (int | None, optional): whether to show a summary of train in given timestep or not. Defaults to None.\n",
    "\n",
    "    Returns:\n",
    "        list: list of loss in each iteration\n",
    "    \"\"\"\n",
    "    loss_list = []\n",
    "    optimizer = torch.optim.AdamW(model.parameters(), lr=lr)\n",
    "    for i in range(iter):\n",
    "        optimizer.zero_grad()\n",
    "        x, y = get_batch(train_x, train_y, batch_size, context_length)\n",
    "        out = model(x)\n",
    "        out = out.view(\n",
    "            out.size(0) * out.size(1), out.size(2)\n",
    "        )  # becomes (batch_size*context_length, channel_size)\n",
    "        # because for cross entropy loss, pytorch accepts (N,C), where C is number of classes\n",
    "        y = y.view(-1)  # the same for target tensor\n",
    "        loss = F.cross_entropy(out, y)\n",
    "        loss.backward()\n",
    "        loss_list.append(loss.item())\n",
    "        optimizer.step()\n",
    "\n",
    "        if step_verbose and i % step_verbose == 0:\n",
    "            print(f\"loss at iteration {i} is {loss.item()}\")\n",
    "\n",
    "    return loss_list"
   ]
  },
  {
   "cell_type": "markdown",
   "metadata": {},
   "source": [
    "## Learn Only by Lookup Embedding\n"
   ]
  },
  {
   "cell_type": "markdown",
   "metadata": {},
   "source": [
    "Create model and train it"
   ]
  },
  {
   "cell_type": "code",
   "execution_count": 15,
   "metadata": {},
   "outputs": [
    {
     "name": "stdout",
     "output_type": "stream",
     "text": [
      "loss at iteration 0 is 4.675796031951904\n",
      "loss at iteration 1000 is 3.4819042682647705\n",
      "loss at iteration 2000 is 2.9028875827789307\n",
      "loss at iteration 3000 is 2.637307643890381\n",
      "loss at iteration 4000 is 2.5339818000793457\n",
      "loss at iteration 5000 is 2.4952595233917236\n",
      "loss at iteration 6000 is 2.47721266746521\n",
      "loss at iteration 7000 is 2.4643585681915283\n",
      "loss at iteration 8000 is 2.4646036624908447\n",
      "loss at iteration 9000 is 2.428908586502075\n",
      "best loss achieved: 2.428908586502075\n"
     ]
    }
   ],
   "source": [
    "model = nn.Embedding(vocab_size, vocab_size).to(device)\n",
    "\n",
    "text_tensor = torch.tensor(encode(text)).to(device)\n",
    "train_dataset = text_tensor[: int(text_tensor.size(0) * 0.9)]\n",
    "\n",
    "loss_list = train(\n",
    "    model, train_dataset, train_dataset, 10000, 512, 30, step_verbose=1000\n",
    ")\n",
    "print(f\"best loss achieved: {min(loss_list)}\")"
   ]
  },
  {
   "cell_type": "markdown",
   "metadata": {},
   "source": [
    "Loss curve"
   ]
  },
  {
   "cell_type": "code",
   "execution_count": 16,
   "metadata": {},
   "outputs": [
    {
     "data": {
      "image/png": "[encoded data removed]",
      "text/plain": [
       "<Figure size 640x480 with 1 Axes>"
      ]
     },
     "metadata": {},
     "output_type": "display_data"
    }
   ],
   "source": [
    "plt.plot(loss_list)\n",
    "plt.show()"
   ]
  },
  {
   "cell_type": "markdown",
   "metadata": {},
   "source": [
    "A sample generated by trained model"
   ]
  },
  {
   "cell_type": "code",
   "execution_count": 17,
   "metadata": {},
   "outputs": [
    {
     "name": "stdout",
     "output_type": "stream",
     "text": [
      "\n",
      "SCEYoun OLANENoberunosth s storff y bolou athacoure-\n",
      "Theyatr luch, ayote by t aceaseve XFond the Yorn or vinty nsm ctane dittha t fowhat and MAREOK:\n",
      "Toulirrd te hitid:\n",
      "ANoufer seid hamfounores ate.\n",
      "YCHar D pof to ire f strd, berkende byo he pll g ho,\n",
      "Y:\n",
      "\n",
      "LI the ge d F ar who se, r: G y y t f ededs o\n"
     ]
    }
   ],
   "source": [
    "tokens = text_generate(model,torch.zeros((1,),dtype=torch.long, device=device), 300)\n",
    "print(\"\".join(decode(tokens[0]))) "
   ]
  },
  {
   "cell_type": "markdown",
   "metadata": {},
   "source": [
    "## Learn by Attention"
   ]
  },
  {
   "cell_type": "markdown",
   "metadata": {},
   "source": [
    "### Define model"
   ]
  },
  {
   "cell_type": "code",
   "execution_count": 10,
   "metadata": {},
   "outputs": [],
   "source": [
    "from my_transformer import CausalSelfAttentionHead\n",
    "\n",
    "\n",
    "class SimpleAttentionModel(nn.Module):\n",
    "    def __init__(\n",
    "        self, vocab_size: int, context_length: int, embed_size: int, *args, **kwargs\n",
    "    ) -> None:\n",
    "        super().__init__(*args, **kwargs)\n",
    "\n",
    "        self.char_embed = nn.Embedding(vocab_size, embed_size)\n",
    "        self.position_embed = nn.Embedding(context_length, embed_size)\n",
    "\n",
    "        self.atten = CausalSelfAttentionHead(\n",
    "            embed_size, 32, vocab_size, context_length, 0.01\n",
    "        )\n",
    "\n",
    "    def forward(self, x: torch.Tensor):\n",
    "        char_embed = self.char_embed(x)  # (batch_size, context_length, embed_size)\n",
    "        position_embed = self.position_embed(\n",
    "            torch.arange(x.size(-1), device=device)\n",
    "        )  # (context_length, embed_size)\n",
    "\n",
    "        embed = char_embed + position_embed\n",
    "        out = self.atten(embed)  # (batch_size, context_length, vocab_size)\n",
    "\n",
    "        return out"
   ]
  },
  {
   "cell_type": "code",
   "execution_count": 11,
   "metadata": {},
   "outputs": [
    {
     "name": "stdout",
     "output_type": "stream",
     "text": [
      "loss at iteration 0 is 4.13706636428833\n",
      "loss at iteration 1000 is 2.5706562995910645\n",
      "loss at iteration 2000 is 2.398519515991211\n",
      "loss at iteration 3000 is 2.3713207244873047\n",
      "loss at iteration 4000 is 2.3167507648468018\n",
      "loss at iteration 5000 is 2.325383424758911\n",
      "loss at iteration 6000 is 2.3275058269500732\n",
      "loss at iteration 7000 is 2.309060573577881\n",
      "loss at iteration 8000 is 2.3067727088928223\n",
      "loss at iteration 9000 is 2.286986827850342\n",
      "best loss achieved: 2.255483865737915\n"
     ]
    }
   ],
   "source": [
    "model = SimpleAttentionModel(vocab_size, 64, 32).to(device)\n",
    "\n",
    "text_tensor = torch.tensor(encode(text)).to(device)\n",
    "train_dataset = text_tensor[: int(text_tensor.size(0) * 0.9)]\n",
    "\n",
    "loss_list = train(\n",
    "    model, train_dataset, train_dataset, 10000, 512, 32, step_verbose=1000\n",
    ")\n",
    "print(f\"best loss achieved: {min(loss_list)}\")"
   ]
  },
  {
   "cell_type": "code",
   "execution_count": 12,
   "metadata": {},
   "outputs": [
    {
     "data": {
      "image/png": "[encoded data removed]",
      "text/plain": [
       "<Figure size 640x480 with 1 Axes>"
      ]
     },
     "metadata": {},
     "output_type": "display_data"
    }
   ],
   "source": [
    "plt.plot(loss_list)\n",
    "plt.show()"
   ]
  },
  {
   "cell_type": "code",
   "execution_count": 14,
   "metadata": {},
   "outputs": [
    {
     "name": "stdout",
     "output_type": "stream",
     "text": [
      "\n",
      "Dur.\n",
      "\n",
      "Bed\n",
      "I'd wothey y'To gath the hee?\n",
      "\n",
      "TRhis ber bule swe yualist thm, ndy nour thencag heamep ornenas hoy:\n",
      "A Bud beve.\n",
      "\n",
      "PEORGIICof hal uold, squeepeen heat p ot wotol cthe er com:\n",
      "Sonod. And:\n",
      "That nomero ucepers winf wllel, dis\n",
      "Thapy neovera mesay lod Nouinst, I shero nanwo!\n",
      "Corwe-ve coudy, fous.\n"
     ]
    }
   ],
   "source": [
    "tokens = text_generate(model,torch.zeros((1,),dtype=torch.long, device=device), 300, context_length=32)\n",
    "print(\"\".join(decode(tokens[0]))) "
   ]
  },
  {
   "cell_type": "code",
   "execution_count": null,
   "metadata": {},
   "outputs": [],
   "source": []
  },
  {
   "cell_type": "code",
   "execution_count": null,
   "metadata": {},
   "outputs": [],
   "source": []
  },
  {
   "cell_type": "code",
   "execution_count": null,
   "metadata": {},
   "outputs": [],
   "source": []
  },
  {
   "cell_type": "code",
   "execution_count": null,
   "metadata": {},
   "outputs": [],
   "source": []
  },
  {
   "cell_type": "code",
   "execution_count": 47,
   "metadata": {},
   "outputs": [
    {
     "data": {
      "text/plain": [
       "tensor([[ 0,  1,  2,  3],\n",
       "        [ 4,  5,  6,  7],\n",
       "        [ 8,  9, 10, 11]])"
      ]
     },
     "execution_count": 47,
     "metadata": {},
     "output_type": "execute_result"
    }
   ],
   "source": [
    "x = torch.arange(12).view(3,4)\n",
    "x"
   ]
  },
  {
   "cell_type": "code",
   "execution_count": 97,
   "metadata": {},
   "outputs": [
    {
     "name": "stdout",
     "output_type": "stream",
     "text": [
      "torch.Size([9, 4])\n",
      "tensor([[ 0,  1,  2,  3],\n",
      "        [ 0,  1,  2,  3],\n",
      "        [ 0,  1,  2,  3],\n",
      "        [ 4,  5,  6,  7],\n",
      "        [ 4,  5,  6,  7],\n",
      "        [ 4,  5,  6,  7],\n",
      "        [ 8,  9, 10, 11],\n",
      "        [ 8,  9, 10, 11],\n",
      "        [ 8,  9, 10, 11]])\n"
     ]
    }
   ],
   "source": [
    "y = x.repeat_interleave(x.size(-2),dim=-2)\n",
    "print(y.shape)\n",
    "print(y)"
   ]
  },
  {
   "cell_type": "code",
   "execution_count": 100,
   "metadata": {},
   "outputs": [
    {
     "name": "stdout",
     "output_type": "stream",
     "text": [
      "torch.Size([3, 3, 4])\n"
     ]
    },
    {
     "data": {
      "text/plain": [
       "tensor([[ 0,  1,  2,  3],\n",
       "        [ 4,  5,  6,  7],\n",
       "        [ 8,  9, 10, 11],\n",
       "        [ 0,  1,  2,  3],\n",
       "        [ 4,  5,  6,  7],\n",
       "        [ 8,  9, 10, 11],\n",
       "        [ 0,  1,  2,  3],\n",
       "        [ 4,  5,  6,  7],\n",
       "        [ 8,  9, 10, 11]])"
      ]
     },
     "execution_count": 100,
     "metadata": {},
     "output_type": "execute_result"
    }
   ],
   "source": [
    "z = x.unsqueeze(dim=-3).repeat_interleave(x.size(-2),dim=-3)\n",
    "print(z.shape)\n",
    "z = z.view(x.size(-2)*x.size(-2), x.size(-1))\n",
    "z"
   ]
  },
  {
   "cell_type": "code",
   "execution_count": 123,
   "metadata": {},
   "outputs": [
    {
     "name": "stdout",
     "output_type": "stream",
     "text": [
      "tensor([[ 0,  1,  2,  3,  0,  1,  2,  3],\n",
      "        [ 4,  5,  6,  7,  0,  1,  2,  3],\n",
      "        [ 8,  9, 10, 11,  0,  1,  2,  3],\n",
      "        [ 0,  1,  2,  3,  4,  5,  6,  7],\n",
      "        [ 4,  5,  6,  7,  4,  5,  6,  7],\n",
      "        [ 8,  9, 10, 11,  4,  5,  6,  7],\n",
      "        [ 0,  1,  2,  3,  8,  9, 10, 11],\n",
      "        [ 4,  5,  6,  7,  8,  9, 10, 11],\n",
      "        [ 8,  9, 10, 11,  8,  9, 10, 11]])\n"
     ]
    },
    {
     "data": {
      "text/plain": [
       "tensor([[12, 28, 44],\n",
       "        [28, 44, 60],\n",
       "        [44, 60, 76]])"
      ]
     },
     "execution_count": 123,
     "metadata": {},
     "output_type": "execute_result"
    }
   ],
   "source": [
    "w = torch.cat([z,y],dim=-1)\n",
    "print(w)\n",
    "w.sum(dim=-1).view(3,3)"
   ]
  },
  {
   "cell_type": "code",
   "execution_count": 137,
   "metadata": {},
   "outputs": [
    {
     "data": {
      "text/plain": [
       "tensor([[0, 1],\n",
       "        [2, 3]])"
      ]
     },
     "execution_count": 137,
     "metadata": {},
     "output_type": "execute_result"
    }
   ],
   "source": [
    "q = torch.arange(4).view(2,2)\n",
    "q"
   ]
  },
  {
   "cell_type": "code",
   "execution_count": 138,
   "metadata": {},
   "outputs": [
    {
     "data": {
      "text/plain": [
       "tensor([[0, 1],\n",
       "        [0, 1],\n",
       "        [2, 3],\n",
       "        [2, 3]])"
      ]
     },
     "execution_count": 138,
     "metadata": {},
     "output_type": "execute_result"
    }
   ],
   "source": [
    "temp_q = q.repeat_interleave(q.size(-2),-2)\n",
    "temp_q"
   ]
  },
  {
   "cell_type": "code",
   "execution_count": 139,
   "metadata": {},
   "outputs": [
    {
     "data": {
      "text/plain": [
       "tensor([[0, 1],\n",
       "        [2, 3]])"
      ]
     },
     "execution_count": 139,
     "metadata": {},
     "output_type": "execute_result"
    }
   ],
   "source": [
    "k = torch.arange(4).view(2,2)\n",
    "k"
   ]
  },
  {
   "cell_type": "code",
   "execution_count": 142,
   "metadata": {},
   "outputs": [
    {
     "data": {
      "text/plain": [
       "tensor([[0, 1],\n",
       "        [2, 3],\n",
       "        [0, 1],\n",
       "        [2, 3]])"
      ]
     },
     "execution_count": 142,
     "metadata": {},
     "output_type": "execute_result"
    }
   ],
   "source": [
    "temp_k = (\n",
    "    k.unsqueeze(dim=-3)\n",
    "    .repeat_interleave(k.size(-2), dim=-3)\n",
    "    .view(*k.shape[:-3], k.size(-2) * k.size(-2), k.size(-1))\n",
    ")\n",
    "temp_k"
   ]
  },
  {
   "cell_type": "code",
   "execution_count": 141,
   "metadata": {},
   "outputs": [
    {
     "data": {
      "text/plain": [
       "tensor([[0, 1, 0, 1],\n",
       "        [0, 1, 2, 3],\n",
       "        [2, 3, 0, 1],\n",
       "        [2, 3, 2, 3]])"
      ]
     },
     "execution_count": 141,
     "metadata": {},
     "output_type": "execute_result"
    }
   ],
   "source": [
    "torch.cat([temp_q, temp_k], dim=-1)"
   ]
  },
  {
   "cell_type": "code",
   "execution_count": null,
   "metadata": {},
   "outputs": [],
   "source": []
  }
 ],
 "metadata": {
  "kernelspec": {
   "display_name": ".venv",
   "language": "python",
   "name": "python3"
  },
  "language_info": {
   "codemirror_mode": {
    "name": "ipython",
    "version": 3
   },
   "file_extension": ".py",
   "mimetype": "text/x-python",
   "name": "python",
   "nbconvert_exporter": "python",
   "pygments_lexer": "ipython3",
   "version": "3.10.9"
  }
 },
 "nbformat": 4,
 "nbformat_minor": 2
}
