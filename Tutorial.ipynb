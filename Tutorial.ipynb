{
 "cells": [
  {
   "cell_type": "markdown",
   "metadata": {},
   "source": [
    "# Transformers From Scratch\n"
   ]
  },
  {
   "cell_type": "markdown",
   "metadata": {},
   "source": [
    "## Initialization\n"
   ]
  },
  {
   "cell_type": "code",
   "execution_count": 1,
   "metadata": {},
   "outputs": [
    {
     "name": "stdout",
     "output_type": "stream",
     "text": [
      "cuda\n"
     ]
    }
   ],
   "source": [
    "from typing import Tuple\n",
    "\n",
    "import matplotlib.pyplot as plt\n",
    "import torch\n",
    "import torch.nn as nn\n",
    "from torch.nn import functional as F\n",
    "from torch.types import (\n",
    "    _device,\n",
    "    _int,\n",
    "    _size,\n",
    "    _TensorOrTensors,\n",
    ")  # used for type hinting. helps intellisense to detect types and also readers to understand each variables easier\n",
    "\n",
    "from my_transformer import set_seed, num_parameters\n",
    "\n",
    "set_seed(1999)  # set seed for reproducible results\n",
    "\n",
    "device = (\n",
    "    \"cuda\" if torch.cuda.is_available() else \"cpu\"\n",
    ")  # run on gpu for faster optimization if it's available\n",
    "print(device)"
   ]
  },
  {
   "cell_type": "markdown",
   "metadata": {},
   "source": [
    "Loading the sample text to train and validate the implemented gpt model.\n"
   ]
  },
  {
   "cell_type": "code",
   "execution_count": 2,
   "metadata": {},
   "outputs": [
    {
     "name": "stdout",
     "output_type": "stream",
     "text": [
      "First Citizen:\n",
      "Before we proceed any further, hear me speak.\n",
      "\n",
      "All:\n",
      "Speak, speak.\n",
      "\n",
      "First Citizen:\n",
      "You are all resolved rather to die than to famish?\n",
      "\n",
      "All:\n",
      "Resolved. resolved.\n",
      "\n",
      "First Citizen:\n",
      "First, you\n"
     ]
    }
   ],
   "source": [
    "with open(\"assets/input.txt\", \"r\") as f:\n",
    "    text = f.read()\n",
    "\n",
    "print(text[:200])"
   ]
  },
  {
   "cell_type": "markdown",
   "metadata": {},
   "source": [
    "List of all characters in the dataset\n"
   ]
  },
  {
   "cell_type": "code",
   "execution_count": 3,
   "metadata": {},
   "outputs": [
    {
     "name": "stdout",
     "output_type": "stream",
     "text": [
      "\"\\n !$&',-.3:;?ABCDEFGHIJKLMNOPQRSTUVWXYZabcdefghijklmnopqrstuvwxyz\"\n"
     ]
    },
    {
     "data": {
      "text/plain": [
       "65"
      ]
     },
     "execution_count": 3,
     "metadata": {},
     "output_type": "execute_result"
    }
   ],
   "source": [
    "chars = sorted(list(set(text)))\n",
    "print(repr(\"\".join(chars)))\n",
    "vocab_size = len(chars)\n",
    "vocab_size"
   ]
  },
  {
   "cell_type": "markdown",
   "metadata": {},
   "source": [
    "Encode and Decode"
   ]
  },
  {
   "cell_type": "code",
   "execution_count": 4,
   "metadata": {},
   "outputs": [
    {
     "name": "stdout",
     "output_type": "stream",
     "text": [
      "[32, 46, 47, 57, 1, 51, 59, 57, 58, 1, 40, 43, 1, 54, 56, 53, 54, 43, 56, 50, 63, 1, 43, 52, 41, 53, 42, 43, 42, 1, 39, 52, 42, 1, 42, 43, 41, 53, 42, 43, 42, 2]\n",
      "This must be properly encoded and decoded!\n"
     ]
    }
   ],
   "source": [
    "cton = {c: n for n, c in enumerate(chars)}  # Character to number lookup table\n",
    "ntoc = {n: c for n, c in enumerate(chars)}  # Number to character lookup table\n",
    "\n",
    "\n",
    "def encode(s: list[str] | str):\n",
    "    return [cton[c] for c in s]\n",
    "\n",
    "\n",
    "def decode(e: list[int] | torch.Tensor | int):\n",
    "    if isinstance(e, torch.Tensor):\n",
    "        e = e.tolist()\n",
    "    if isinstance(e, int):\n",
    "        return ntoc[e]\n",
    "    return [ntoc[n] for n in e]\n",
    "\n",
    "\n",
    "test_text = \"This must be properly encoded and decoded!\"  # make sure all the characters all available in the loaded text file.\n",
    "enc_test = encode(test_text)\n",
    "print(enc_test)\n",
    "dec_text = decode(enc_test)\n",
    "print(\"\".join(dec_text))"
   ]
  },
  {
   "cell_type": "markdown",
   "metadata": {},
   "source": [
    "Get mini-batch of dataset"
   ]
  },
  {
   "cell_type": "code",
   "execution_count": 5,
   "metadata": {},
   "outputs": [],
   "source": [
    "def get_batch(\n",
    "    train: torch.Tensor, validation: torch.Tensor, batch_size: int, context_length: int\n",
    ") -> Tuple[torch.Tensor, torch.Tensor]:\n",
    "    \"\"\"get mini-batch from given train and validation datasets\n",
    "\n",
    "    Args:\n",
    "        train (torch.Tensor): input dataset\n",
    "        validation (torch.Tensor): validation dataset\n",
    "        batch_size (int): batch size\n",
    "        context_length (int): length window in time dimension\n",
    "\n",
    "    Returns:\n",
    "        Tuple[torch.Tensor, torch.Tensor]: mini-batch of train (batch_size, context_length, feature_size), mini-batch of validation (batch_size, context_length)\n",
    "    \"\"\"\n",
    "\n",
    "    assert train.size(0) == validation.size(\n",
    "        0\n",
    "    ), \"Train and validation should be have same size for dim 0\"\n",
    "\n",
    "    validation = torch.roll(validation, -1)  # To align input and label\n",
    "\n",
    "    offsets = torch.randint(train.size(0) - context_length, (batch_size,))\n",
    "    x = torch.stack([train[i : i + context_length] for i in offsets])\n",
    "    y = torch.stack([validation[i : i + context_length] for i in offsets])\n",
    "\n",
    "    return x, y"
   ]
  },
  {
   "cell_type": "markdown",
   "metadata": {},
   "source": [
    "Example of getting mini-batch for test text. run this multiple time to see multiple examples.\n"
   ]
  },
  {
   "cell_type": "code",
   "execution_count": 6,
   "metadata": {},
   "outputs": [
    {
     "name": "stdout",
     "output_type": "stream",
     "text": [
      "tensor([[42, 59, 39, 11,  1, 58, 46, 43, 56, 43,  1, 58],\n",
      "        [57,  1, 57, 41, 39, 40, 57, 12,  0,  0, 18, 47]]) tensor([[59, 39, 11,  1, 58, 46, 43, 56, 43,  1, 58, 53],\n",
      "        [ 1, 57, 41, 39, 40, 57, 12,  0,  0, 18, 47, 56]])\n",
      "given 'd', -> 'u'\n",
      "given 'du', -> 'a'\n",
      "given 'dua', -> ';'\n",
      "given 'dua;', -> ' '\n",
      "given 'dua; ', -> 't'\n",
      "given 'dua; t', -> 'h'\n",
      "given 'dua; th', -> 'e'\n",
      "given 'dua; the', -> 'r'\n",
      "given 'dua; ther', -> 'e'\n",
      "given 'dua; there', -> ' '\n",
      "given 'dua; there ', -> 't'\n",
      "given 'dua; there t', -> 'o'\n",
      "given 's', -> ' '\n",
      "given 's ', -> 's'\n",
      "given 's s', -> 'c'\n",
      "given 's sc', -> 'a'\n",
      "given 's sca', -> 'b'\n",
      "given 's scab', -> 's'\n",
      "given 's scabs', -> '?'\n",
      "given 's scabs?', -> '\\n'\n",
      "given 's scabs?\\n', -> '\\n'\n",
      "given 's scabs?\\n\\n', -> 'F'\n",
      "given 's scabs?\\n\\nF', -> 'i'\n",
      "given 's scabs?\\n\\nFi', -> 'r'\n"
     ]
    }
   ],
   "source": [
    "inp_tensor = torch.tensor(encode(text))\n",
    "\n",
    "batch_size = 2\n",
    "context_length = 12\n",
    "inp_mini_batch, target_mini_batch = get_batch(\n",
    "    inp_tensor, inp_tensor, batch_size, context_length\n",
    ")\n",
    "print(inp_mini_batch, target_mini_batch)\n",
    "\n",
    "for b in range(batch_size):\n",
    "    for i in range(context_length):\n",
    "        print(\n",
    "            f\"given {repr(''.join(decode(inp_mini_batch[b][:i+1])))}, -> {repr(decode(target_mini_batch[b][i]))}\"\n",
    "        )"
   ]
  },
  {
   "cell_type": "markdown",
   "metadata": {},
   "source": [
    "### Generate function\n"
   ]
  },
  {
   "cell_type": "code",
   "execution_count": 7,
   "metadata": {},
   "outputs": [],
   "source": [
    "@torch.no_grad\n",
    "def text_generate(\n",
    "    model: nn.Module,\n",
    "    initial_token: torch.Tensor,\n",
    "    max_new_tokens: int,\n",
    "    context_length: int | None = None,\n",
    "):\n",
    "    training = model.training\n",
    "    model.eval()  # set model to eval mode\n",
    "\n",
    "    # make it batch-like if it is only a token\n",
    "    if initial_token.dim() == 1:\n",
    "        initial_token = initial_token.view(1, -1)  # of size (batch_size, 1)\n",
    "    tokens = initial_token  # of size (batch_size, context_size)\n",
    "    for i in range(max_new_tokens):\n",
    "        logits = model(\n",
    "            tokens[:, -context_length:] if context_length else tokens\n",
    "        )  # of size (batch_size, context_size, channel_size)\n",
    "        # get the last element in context dimension:\n",
    "        logits = logits[:, -1, :]  # size becomes (batch_size, channel_size)\n",
    "        # get probability of each token in output\n",
    "        probs = F.softmax(logits, dim=-1)  # compute softmax on the last dimension\n",
    "        # sample token\n",
    "        next_token = torch.multinomial(probs, num_samples=1)  # of size (batch_size, 1)\n",
    "        # add new token to existing ones\n",
    "        tokens = torch.cat((tokens, next_token), dim=-1)  # concat on last dimension\n",
    "\n",
    "    if training:  # if given model was on train mode, return it to that state\n",
    "        model.train()\n",
    "    return tokens"
   ]
  },
  {
   "cell_type": "markdown",
   "metadata": {},
   "source": [
    "Simple test for text generator function\n"
   ]
  },
  {
   "cell_type": "code",
   "execution_count": 8,
   "metadata": {},
   "outputs": [
    {
     "name": "stdout",
     "output_type": "stream",
     "text": [
      "\n",
      "f\n",
      "yl!f!!nPXr qsA&u\n",
      "za OMZmVZm3iLWX3cD.LkTCYad'rlKacTx v;UofvxbMLVq-WtPO;Z&V!eHRSuXxXJoJoBg3xvJkYcjQ:\n"
     ]
    }
   ],
   "source": [
    "test_model = nn.Embedding(\n",
    "    vocab_size, vocab_size\n",
    ")  # instantiate a simple vocab_size * vocab_size lookup table\n",
    "\n",
    "tokens = text_generate(test_model, torch.zeros((1,), dtype=torch.long), 100)\n",
    "print(\"\".join(decode(tokens[0])))  # see generated text of the first batch"
   ]
  },
  {
   "cell_type": "markdown",
   "metadata": {},
   "source": [
    "### Train loop\n"
   ]
  },
  {
   "cell_type": "code",
   "execution_count": 9,
   "metadata": {},
   "outputs": [],
   "source": [
    "def train(\n",
    "    model: nn.Module,\n",
    "    train_x: torch.Tensor,\n",
    "    train_y: torch.Tensor,\n",
    "    iter: int,\n",
    "    batch_size: int,\n",
    "    context_length: int,\n",
    "    lr: float = 1e-3,\n",
    "    step_verbose: int | None = None,\n",
    ") -> list:\n",
    "    \"\"\"Train given model on given dataset\n",
    "\n",
    "    Args:\n",
    "        model (nn.Module): model you want to train\n",
    "        train_x (torch.Tensor): train input\n",
    "        train_y (torch.Tensor): train label\n",
    "        iter (int): number of iterations to train the model\n",
    "        batch_size (int): batch size\n",
    "        context_length (int): context length\n",
    "        lr (float, optional): learning rate. Defaults to 1e-3.\n",
    "        step_verbose (int | None, optional): whether to show a summary of train in given timestep or not. Defaults to None.\n",
    "\n",
    "    Returns:\n",
    "        list: list of loss in each iteration\n",
    "    \"\"\"\n",
    "    loss_list = []\n",
    "    optimizer = torch.optim.AdamW(model.parameters(), lr=lr)\n",
    "    for i in range(iter):\n",
    "        optimizer.zero_grad()\n",
    "        x, y = get_batch(train_x, train_y, batch_size, context_length)\n",
    "        out = model(x)\n",
    "        out = out.view(\n",
    "            out.size(0) * out.size(1), out.size(2)\n",
    "        )  # becomes (batch_size*context_length, channel_size)\n",
    "        # because for cross entropy loss, pytorch accepts (N,C), where C is number of classes\n",
    "        y = y.view(-1)  # the same for target tensor\n",
    "        loss = F.cross_entropy(out, y)\n",
    "        loss.backward()\n",
    "        loss_list.append(loss.item())\n",
    "        optimizer.step()\n",
    "\n",
    "        if step_verbose and i % step_verbose == 0:\n",
    "            print(f\"loss at iteration {i} is {loss.item()}\")\n",
    "\n",
    "    return loss_list"
   ]
  },
  {
   "cell_type": "markdown",
   "metadata": {},
   "source": [
    "## Learn Only by Lookup Embedding\n"
   ]
  },
  {
   "cell_type": "markdown",
   "metadata": {},
   "source": [
    "Create model and train it"
   ]
  },
  {
   "cell_type": "code",
   "execution_count": 10,
   "metadata": {},
   "outputs": [
    {
     "name": "stdout",
     "output_type": "stream",
     "text": [
      "number of parameters of model is 4225\n",
      "loss at iteration 0 is 4.765798091888428\n",
      "loss at iteration 1000 is 3.5551917552948\n",
      "loss at iteration 2000 is 2.9218521118164062\n",
      "loss at iteration 3000 is 2.6452479362487793\n",
      "loss at iteration 4000 is 2.535724639892578\n",
      "loss at iteration 5000 is 2.488281011581421\n",
      "loss at iteration 6000 is 2.4701895713806152\n",
      "loss at iteration 7000 is 2.46500563621521\n",
      "loss at iteration 8000 is 2.4702394008636475\n",
      "loss at iteration 9000 is 2.459132671356201\n",
      "best loss achieved: 2.427894115447998\n"
     ]
    }
   ],
   "source": [
    "set_seed(1999)\n",
    "model = nn.Embedding(vocab_size, vocab_size).to(device)\n",
    "\n",
    "text_tensor = torch.tensor(encode(text)).to(device)\n",
    "train_dataset = text_tensor[: int(text_tensor.size(0) * 0.9)]\n",
    "\n",
    "print(f\"number of parameters of model is {num_parameters(model)}\")\n",
    "loss_list = train(\n",
    "    model, train_dataset, train_dataset, 10000, 512, 30, step_verbose=1000\n",
    ")\n",
    "print(f\"best loss achieved: {min(loss_list)}\")"
   ]
  },
  {
   "cell_type": "markdown",
   "metadata": {},
   "source": [
    "Loss curve"
   ]
  },
  {
   "cell_type": "code",
   "execution_count": 11,
   "metadata": {},
   "outputs": [
    {
     "data": {
      "image/png": "[encoded data removed]",
      "text/plain": [
       "<Figure size 640x480 with 1 Axes>"
      ]
     },
     "metadata": {},
     "output_type": "display_data"
    }
   ],
   "source": [
    "plt.plot(loss_list)\n",
    "plt.show()"
   ]
  },
  {
   "cell_type": "markdown",
   "metadata": {},
   "source": [
    "A sample generated by trained model"
   ]
  },
  {
   "cell_type": "code",
   "execution_count": 12,
   "metadata": {},
   "outputs": [
    {
     "name": "stdout",
     "output_type": "stream",
     "text": [
      "\n",
      "Ne wie kis he, ilouroonghl, e.\n",
      "WairtD:\n",
      "\n",
      "THAf&ICII' ayonghef n, OFoway!\n",
      "m cacold thope?\n",
      "Hin iench but daranc su ofyome orrepefrnd, iroo atomey bint s r sifllfo, t s chichakne fonokivay fino ay'ssathefomy wing3 ome setll.\n",
      "GRD:\n",
      "Hef br neerde lpedisst'l rd mer m\n",
      "Nom; t hayou ten.\n",
      "Fis s o d:\n",
      "PAyouJUS:\n",
      "To\n"
     ]
    }
   ],
   "source": [
    "tokens = text_generate(model,torch.zeros((1,),dtype=torch.long, device=device), 300)\n",
    "print(\"\".join(decode(tokens[0]))) "
   ]
  },
  {
   "cell_type": "markdown",
   "metadata": {},
   "source": [
    "## Learn by Attention"
   ]
  },
  {
   "cell_type": "markdown",
   "metadata": {},
   "source": [
    "### Single head attention"
   ]
  },
  {
   "cell_type": "markdown",
   "metadata": {},
   "source": [
    "#### Define model"
   ]
  },
  {
   "cell_type": "code",
   "execution_count": 13,
   "metadata": {},
   "outputs": [],
   "source": [
    "from my_transformer import CausalSelfAttentionHead\n",
    "\n",
    "\n",
    "class SimpleAttentionModel(nn.Module):\n",
    "    def __init__(\n",
    "        self, vocab_size: int, context_length: int, embed_size: int, *args, **kwargs\n",
    "    ) -> None:\n",
    "        super().__init__(*args, **kwargs)\n",
    "\n",
    "        self.char_embed = nn.Embedding(vocab_size, embed_size)\n",
    "        self.position_embed = nn.Embedding(context_length, embed_size)\n",
    "\n",
    "        self.atten = CausalSelfAttentionHead(\n",
    "            embed_size, 32, vocab_size, context_length, 0.01\n",
    "        )\n",
    "\n",
    "    def forward(self, x: torch.Tensor):\n",
    "        char_embed = self.char_embed(x)  # (batch_size, context_length, embed_size)\n",
    "        position_embed = self.position_embed(\n",
    "            torch.arange(x.size(-1), device=device)\n",
    "        )  # (context_length, embed_size)\n",
    "\n",
    "        embed = char_embed + position_embed\n",
    "        out = self.atten(embed)  # (batch_size, context_length, vocab_size)\n",
    "\n",
    "        return out"
   ]
  },
  {
   "cell_type": "markdown",
   "metadata": {},
   "source": [
    "#### Train"
   ]
  },
  {
   "cell_type": "code",
   "execution_count": 14,
   "metadata": {},
   "outputs": [
    {
     "name": "stdout",
     "output_type": "stream",
     "text": [
      "number of parameters of model is 8385\n",
      "loss at iteration 0 is 4.256787300109863\n",
      "loss at iteration 1000 is 2.5861775875091553\n",
      "loss at iteration 2000 is 2.4042856693267822\n",
      "loss at iteration 3000 is 2.3411061763763428\n",
      "loss at iteration 4000 is 2.3481667041778564\n",
      "loss at iteration 5000 is 2.3282177448272705\n",
      "loss at iteration 6000 is 2.315580129623413\n",
      "loss at iteration 7000 is 2.309861421585083\n",
      "loss at iteration 8000 is 2.332017660140991\n",
      "loss at iteration 9000 is 2.2926015853881836\n",
      "best loss achieved: 2.273582935333252\n"
     ]
    }
   ],
   "source": [
    "set_seed(1999)\n",
    "model = SimpleAttentionModel(vocab_size, 64, 32).to(device)\n",
    "\n",
    "text_tensor = torch.tensor(encode(text)).to(device)\n",
    "train_dataset = text_tensor[: int(text_tensor.size(0) * 0.9)]\n",
    "\n",
    "print(f\"number of parameters of model is {num_parameters(model)}\")\n",
    "loss_list = train(\n",
    "    model, train_dataset, train_dataset, 10000, 512, 32, step_verbose=1000\n",
    ")\n",
    "print(f\"best loss achieved: {min(loss_list)}\")"
   ]
  },
  {
   "cell_type": "code",
   "execution_count": 15,
   "metadata": {},
   "outputs": [
    {
     "data": {
      "image/png": "[encoded data removed]",
      "text/plain": [
       "<Figure size 640x480 with 1 Axes>"
      ]
     },
     "metadata": {},
     "output_type": "display_data"
    }
   ],
   "source": [
    "plt.plot(loss_list)\n",
    "plt.show()"
   ]
  },
  {
   "cell_type": "markdown",
   "metadata": {},
   "source": [
    "#### Example"
   ]
  },
  {
   "cell_type": "code",
   "execution_count": 16,
   "metadata": {},
   "outputs": [
    {
     "name": "stdout",
     "output_type": "stream",
     "text": [
      "\n",
      "BELTINO:\n",
      "Fien ait are oupik:\n",
      "Math havet tis hebaping ameig mme\n",
      "Gol\n",
      "Aves yoon:\n",
      "\n",
      "When, hawto as bulllex yas, we go hes Wabot;\n",
      "Kratli de\n",
      "YOx fieprei fene.\n",
      "\n",
      "DWhaim yoo oud mimeanerk, Vos.\n",
      "\n",
      "CEDVO yu nquith ta'd wou grse, aver thack nourcenetalisbely len,\n",
      "Is reeslery!\n",
      "Matn.\n",
      "\n",
      "UShis sougl ousce louset wome \n"
     ]
    }
   ],
   "source": [
    "tokens = text_generate(model,torch.zeros((1,),dtype=torch.long, device=device), 300, context_length=32)\n",
    "print(\"\".join(decode(tokens[0]))) "
   ]
  },
  {
   "cell_type": "markdown",
   "metadata": {},
   "source": [
    "### Multi-head attention"
   ]
  },
  {
   "cell_type": "markdown",
   "metadata": {},
   "source": [
    "#### Define Model"
   ]
  },
  {
   "cell_type": "code",
   "execution_count": 10,
   "metadata": {},
   "outputs": [],
   "source": [
    "from my_transformer import MultiHeadAttention\n",
    "\n",
    "\n",
    "class MultiHeadAttentionModel(nn.Module):\n",
    "    def __init__(\n",
    "        self,\n",
    "        vocab_size: int,\n",
    "        context_length: int,\n",
    "        embed_size: int,\n",
    "        num_head: int,\n",
    "        *args,\n",
    "        **kwargs\n",
    "    ) -> None:\n",
    "        super().__init__(*args, **kwargs)\n",
    "\n",
    "        self.char_embed = nn.Embedding(vocab_size, embed_size)\n",
    "        self.position_embed = nn.Embedding(context_length, embed_size)\n",
    "\n",
    "        self.mh_atten = MultiHeadAttention(\n",
    "            input_size=embed_size,\n",
    "            output_size=vocab_size,\n",
    "            query_key_emb_size=32,\n",
    "            value_emb_size=32,\n",
    "            num_head=num_head,\n",
    "            context_size=context_length,\n",
    "            dropout_p=0.01,\n",
    "        )\n",
    "\n",
    "    def forward(self, x: torch.Tensor):\n",
    "        char_embed = self.char_embed(x)  # (batch_size, context_length, embed_size)\n",
    "        position_embed = self.position_embed(\n",
    "            torch.arange(x.size(-1), device=device)\n",
    "        )  # (context_length, embed_size)\n",
    "\n",
    "        embed = char_embed + position_embed\n",
    "        out = self.mh_atten(embed)  # (batch_size, context_length, vocab_size)\n",
    "\n",
    "        return out"
   ]
  },
  {
   "cell_type": "markdown",
   "metadata": {},
   "source": [
    "#### Train"
   ]
  },
  {
   "cell_type": "code",
   "execution_count": 11,
   "metadata": {},
   "outputs": [
    {
     "name": "stdout",
     "output_type": "stream",
     "text": [
      "number of parameters of model is 12873\n",
      "loss at iteration 0 is 4.197534561157227\n",
      "loss at iteration 1000 is 2.5518546104431152\n",
      "loss at iteration 2000 is 2.3818299770355225\n",
      "loss at iteration 3000 is 2.301259994506836\n",
      "loss at iteration 4000 is 2.2323079109191895\n",
      "loss at iteration 5000 is 2.2033004760742188\n",
      "loss at iteration 6000 is 2.165595769882202\n",
      "loss at iteration 7000 is 2.1524605751037598\n",
      "loss at iteration 8000 is 2.152412176132202\n",
      "loss at iteration 9000 is 2.1266870498657227\n",
      "best loss achieved: 2.075582504272461\n"
     ]
    }
   ],
   "source": [
    "set_seed(1999)\n",
    "model = MultiHeadAttentionModel(vocab_size=vocab_size, context_length=64, embed_size=8, num_head=4).to(device)\n",
    "\n",
    "text_tensor = torch.tensor(encode(text)).to(device)\n",
    "train_dataset = text_tensor[: int(text_tensor.size(0) * 0.9)]\n",
    "\n",
    "print(f\"number of parameters of model is {num_parameters(model)}\")\n",
    "loss_list = train(\n",
    "    model, train_dataset, train_dataset, 10000, 512, 32, step_verbose=1000\n",
    ")\n",
    "print(f\"best loss achieved: {min(loss_list)}\")"
   ]
  },
  {
   "cell_type": "code",
   "execution_count": 12,
   "metadata": {},
   "outputs": [
    {
     "data": {
      "image/png": "[encoded data removed]",
      "text/plain": [
       "<Figure size 640x480 with 1 Axes>"
      ]
     },
     "metadata": {},
     "output_type": "display_data"
    }
   ],
   "source": [
    "plt.plot(loss_list)\n",
    "plt.show()"
   ]
  },
  {
   "cell_type": "markdown",
   "metadata": {},
   "source": [
    "#### Example"
   ]
  },
  {
   "cell_type": "code",
   "execution_count": 13,
   "metadata": {},
   "outputs": [
    {
     "name": "stdout",
     "output_type": "stream",
     "text": [
      "\n",
      "To tes see yow male a Sace,\n",
      "Norbeag toing aneme rout toulds Aspile.\n",
      "\n",
      "DUETONTI's stus\n",
      "Nis thinke inest ereee'd so owith andooon the is whill home, the of lare mote in so?\n",
      "\n",
      "KINGLY:\n",
      "Whit weereas Goou tock and de sompt cure.\n",
      "\n",
      "ANTMNRO:\n",
      "You thelends, of af nowh sangave have sus; to marde that:\n",
      "Arond couf \n"
     ]
    }
   ],
   "source": [
    "tokens = text_generate(model,torch.zeros((1,),dtype=torch.long, device=device), 300, context_length=32)\n",
    "print(\"\".join(decode(tokens[0]))) "
   ]
  },
  {
   "cell_type": "markdown",
   "metadata": {},
   "source": [
    "## Transformers"
   ]
  },
  {
   "cell_type": "code",
   "execution_count": 10,
   "metadata": {},
   "outputs": [],
   "source": [
    "from my_transformer import MyTransformer\n",
    "\n",
    "\n",
    "class SimpleGPT(nn.Module):\n",
    "    def __init__(\n",
    "        self,\n",
    "        vocab_size: int,\n",
    "        context_length: int,\n",
    "        embed_size: int,\n",
    "        num_layers: int,\n",
    "        num_head: int,\n",
    "        *args,\n",
    "        **kwargs\n",
    "    ) -> None:\n",
    "        super().__init__(*args, **kwargs)\n",
    "\n",
    "        self.char_embed = nn.Embedding(vocab_size, embed_size)\n",
    "        self.position_embed = nn.Embedding(context_length, embed_size)\n",
    "\n",
    "        self.transform = MyTransformer(\n",
    "            input_size=embed_size,\n",
    "            context_size=context_length,\n",
    "            num_layers=num_layers,\n",
    "            num_head=num_head,\n",
    "            output_size=vocab_size,\n",
    "            atten_kqv_size=2*embed_size,\n",
    "            atten_output=embed_size,\n",
    "            mlp_hidden_size=2*embed_size,\n",
    "            activation=F.relu\n",
    "        )\n",
    "\n",
    "    def forward(self, x:torch.Tensor):\n",
    "        char_emb = self.char_embed(x)\n",
    "        pos_embed = self.position_embed(\n",
    "            torch.arange(x.size(-1), device=device)\n",
    "        )  # (context_length, embed_size)\n",
    "\n",
    "        return self.transform(char_emb + pos_embed)\n",
    "        "
   ]
  },
  {
   "cell_type": "code",
   "execution_count": 11,
   "metadata": {},
   "outputs": [
    {
     "name": "stdout",
     "output_type": "stream",
     "text": [
      "number of parameters of model is 157889\n",
      "loss at iteration 0 is 4.358519077301025\n",
      "loss at iteration 1000 is 1.967320203781128\n",
      "loss at iteration 2000 is 1.687168836593628\n",
      "loss at iteration 3000 is 1.6027016639709473\n",
      "loss at iteration 4000 is 1.5406004190444946\n",
      "loss at iteration 5000 is 1.5145882368087769\n",
      "loss at iteration 6000 is 1.4820489883422852\n",
      "loss at iteration 7000 is 1.4872647523880005\n",
      "loss at iteration 8000 is 1.4700506925582886\n",
      "loss at iteration 9000 is 1.453190803527832\n",
      "best loss achieved: 1.4156805276870728\n"
     ]
    }
   ],
   "source": [
    "set_seed(1999)\n",
    "model = SimpleGPT(vocab_size=vocab_size, context_length=64, embed_size=32, num_head=4, num_layers=4).to(device)\n",
    "\n",
    "text_tensor = torch.tensor(encode(text)).to(device)\n",
    "train_dataset = text_tensor[: int(text_tensor.size(0) * 0.9)]\n",
    "\n",
    "print(f\"number of parameters of model is {num_parameters(model)}\")\n",
    "loss_list = train(\n",
    "    model, train_dataset, train_dataset, 10000, 512, 64, step_verbose=1000\n",
    ")\n",
    "print(f\"best loss achieved: {min(loss_list)}\")"
   ]
  },
  {
   "cell_type": "code",
   "execution_count": 12,
   "metadata": {},
   "outputs": [
    {
     "data": {
      "image/png": "[encoded data removed]",
      "text/plain": [
       "<Figure size 640x480 with 1 Axes>"
      ]
     },
     "metadata": {},
     "output_type": "display_data"
    }
   ],
   "source": [
    "plt.plot(loss_list)\n",
    "plt.show()"
   ]
  },
  {
   "cell_type": "code",
   "execution_count": 14,
   "metadata": {},
   "outputs": [
    {
     "name": "stdout",
     "output_type": "stream",
     "text": [
      "\n",
      "Master, which you will never you shall Marcius, hence; to sigh of the stob.\n",
      "\n",
      "Second Lord Hastings.\n",
      "\n",
      "KING RICHARD III:\n",
      "Iurpita, and, so your uncle and made for Paulance; for for spilting like.\n",
      "\n",
      "RIVERS OF\n",
      "AUFIDIUS:\n",
      "This sicurer eash of for that may shall here a wards her betitiend.\n",
      "\n",
      "Provost:\n",
      "I' this h\n"
     ]
    }
   ],
   "source": [
    "tokens = text_generate(model,torch.zeros((1,),dtype=torch.long, device=device), 300, context_length=32)\n",
    "print(\"\".join(decode(tokens[0]))) "
   ]
  },
  {
   "cell_type": "code",
   "execution_count": null,
   "metadata": {},
   "outputs": [],
   "source": []
  }
 ],
 "metadata": {
  "kernelspec": {
   "display_name": ".venv",
   "language": "python",
   "name": "python3"
  },
  "language_info": {
   "codemirror_mode": {
    "name": "ipython",
    "version": 3
   },
   "file_extension": ".py",
   "mimetype": "text/x-python",
   "name": "python",
   "nbconvert_exporter": "python",
   "pygments_lexer": "ipython3",
   "version": "3.10.9"
  }
 },
 "nbformat": 4,
 "nbformat_minor": 2
}
