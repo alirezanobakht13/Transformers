{
 "cells": [
  {
   "cell_type": "code",
   "execution_count": 7,
   "metadata": {},
   "outputs": [],
   "source": [
    "from typing import Tuple\n",
    "\n",
    "import torch\n",
    "import torch.nn as nn\n",
    "from torch.nn import functional as F\n",
    "from torch.types import _device, _int, _size, _TensorOrTensors\n",
    "\n",
    "from gpt import set_seed\n",
    "\n",
    "set_seed(1999)"
   ]
  },
  {
   "cell_type": "code",
   "execution_count": 8,
   "metadata": {},
   "outputs": [
    {
     "name": "stdout",
     "output_type": "stream",
     "text": [
      "First Citizen:\n",
      "Before we proceed any further, hear me speak.\n",
      "\n",
      "All:\n",
      "Speak, speak.\n",
      "\n",
      "First Citizen:\n",
      "You are all resolved rather to die than to famish?\n",
      "\n",
      "All:\n",
      "Resolved. resolved.\n",
      "\n",
      "First Citizen:\n",
      "First, you\n"
     ]
    }
   ],
   "source": [
    "\"\"\"\n",
    "Loading the sample text to train and validate the implemented gpt model.\n",
    "\"\"\"\n",
    "with open(\"assets/input.txt\", 'r') as f:\n",
    "    text = f.read()\n",
    "\n",
    "print(text[:200])"
   ]
  },
  {
   "cell_type": "code",
   "execution_count": 13,
   "metadata": {},
   "outputs": [
    {
     "name": "stdout",
     "output_type": "stream",
     "text": [
      "\"\\n !$&',-.3:;?ABCDEFGHIJKLMNOPQRSTUVWXYZabcdefghijklmnopqrstuvwxyz\"\n"
     ]
    }
   ],
   "source": [
    "chars = sorted(list(set(text)))\n",
    "print(repr(''.join(chars)))"
   ]
  },
  {
   "cell_type": "code",
   "execution_count": 10,
   "metadata": {},
   "outputs": [
    {
     "name": "stdout",
     "output_type": "stream",
     "text": [
      "[32, 46, 47, 57, 1, 51, 59, 57, 58, 1, 40, 43, 1, 54, 56, 53, 54, 43, 56, 50, 63, 1, 43, 52, 41, 53, 42, 43, 42, 1, 39, 52, 42, 1, 42, 43, 41, 53, 42, 43, 42, 2]\n",
      "This must be properly encoded and decoded!\n"
     ]
    }
   ],
   "source": [
    "\"\"\"\n",
    "create a lookup table to encode the given string (or list of characters) and decode it.\n",
    "\"\"\"\n",
    "\n",
    "cton = {c: n for n, c in enumerate(chars)} # Character to number lookup table\n",
    "ntoc = {n: c for n, c in enumerate(chars)} # Number to character lookup table\n",
    "\n",
    "def encode(s: list[str] | str):\n",
    "    return [cton[c] for c in s]\n",
    "\n",
    "\n",
    "def decode(e: list[int] | torch.Tensor | int):\n",
    "    if isinstance(e, torch.Tensor):\n",
    "        e = e.tolist()\n",
    "    if isinstance(e, int):\n",
    "        return ntoc[e]\n",
    "    return [ntoc[n] for n in e]\n",
    "\n",
    "test_text = \"This must be properly encoded and decoded!\"\n",
    "enc_test = encode(test_text)\n",
    "print(enc_test)\n",
    "dec_text = decode(enc_test)\n",
    "print(\"\".join(dec_text))"
   ]
  },
  {
   "cell_type": "code",
   "execution_count": 11,
   "metadata": {},
   "outputs": [],
   "source": [
    "def get_batch(\n",
    "    train: torch.Tensor, validation: torch.Tensor, batch_size: int, context_length: int\n",
    ") -> Tuple[torch.Tensor, torch.Tensor]:\n",
    "    \"\"\"get mini-batch from given train and validation datasets\n",
    "\n",
    "    Args:\n",
    "        train (torch.Tensor): input dataset\n",
    "        validation (torch.Tensor): validation dataset\n",
    "        batch_size (int): batch size\n",
    "        context_length (int): length window in time dimension\n",
    "\n",
    "    Returns:\n",
    "        Tuple[torch.Tensor, torch.Tensor]: mini-batch of train (batch_size, context_length, feature_size), mini-batch of validation (batch_size, context_length)\n",
    "    \"\"\"\n",
    "\n",
    "    assert train.size(0) == validation.size(0)\n",
    "\n",
    "    offsets = torch.randint(train.size(0) - context_length, (batch_size,))\n",
    "    x = torch.stack([train[i : i + context_length] for i in offsets])\n",
    "    y = torch.stack([validation[i : i + context_length] for i in offsets])\n",
    "\n",
    "    return x, y"
   ]
  },
  {
   "cell_type": "code",
   "execution_count": 16,
   "metadata": {},
   "outputs": [
    {
     "name": "stdout",
     "output_type": "stream",
     "text": [
      "tensor([[53, 56, 51, 39, 50,  1, 61, 53, 51, 43, 52,  1],\n",
      "        [53, 58,  1, 54, 43, 56, 57, 53, 52, 39, 50,  6]]) tensor([[56, 51, 39, 50,  1, 61, 53, 51, 43, 52,  1, 39],\n",
      "        [58,  1, 54, 43, 56, 57, 53, 52, 39, 50,  6,  1]])\n",
      "given 'o', -> 'r'\n",
      "given 'or', -> 'm'\n",
      "given 'orm', -> 'a'\n",
      "given 'orma', -> 'l'\n",
      "given 'ormal', -> ' '\n",
      "given 'ormal ', -> 'w'\n",
      "given 'ormal w', -> 'o'\n",
      "given 'ormal wo', -> 'm'\n",
      "given 'ormal wom', -> 'e'\n",
      "given 'ormal wome', -> 'n'\n",
      "given 'ormal women', -> ' '\n",
      "given 'ormal women ', -> 'a'\n",
      "given 'o', -> 't'\n",
      "given 'ot', -> ' '\n",
      "given 'ot ', -> 'p'\n",
      "given 'ot p', -> 'e'\n",
      "given 'ot pe', -> 'r'\n",
      "given 'ot per', -> 's'\n",
      "given 'ot pers', -> 'o'\n",
      "given 'ot perso', -> 'n'\n",
      "given 'ot person', -> 'a'\n",
      "given 'ot persona', -> 'l'\n",
      "given 'ot personal', -> ','\n",
      "given 'ot personal,', -> ' '\n"
     ]
    }
   ],
   "source": [
    "\"\"\"\n",
    "Example of getting mini-batch for test text. run this multiple time to see multiple examples\n",
    "\"\"\"\n",
    "\n",
    "inp_tensor = torch.tensor(encode(text))\n",
    "\n",
    "batch_size = 2\n",
    "context_length = 12\n",
    "inp_mini_batch, target_mini_batch = get_batch(\n",
    "    inp_tensor, torch.roll(inp_tensor, -1), batch_size, context_length\n",
    ")\n",
    "print(inp_mini_batch, target_mini_batch)\n",
    "\n",
    "for b in range(batch_size):\n",
    "    for i in range(context_length):\n",
    "        print(\n",
    "            f\"given {repr(''.join(decode(inp_mini_batch[b][:i+1])))}, -> {repr(decode(target_mini_batch[b][i]))}\"\n",
    "        )"
   ]
  },
  {
   "cell_type": "code",
   "execution_count": 3,
   "metadata": {},
   "outputs": [
    {
     "name": "stdout",
     "output_type": "stream",
     "text": [
      "['/mnt/e/internship/transformers/_test', '/home/alireza/.pyenv/versions/3.10.9/lib/python310.zip', '/home/alireza/.pyenv/versions/3.10.9/lib/python3.10', '/home/alireza/.pyenv/versions/3.10.9/lib/python3.10/lib-dynload', '', '/mnt/e/internship/transformers/.venv/lib/python3.10/site-packages']\n"
     ]
    }
   ],
   "source": []
  },
  {
   "cell_type": "code",
   "execution_count": null,
   "metadata": {},
   "outputs": [],
   "source": []
  },
  {
   "cell_type": "code",
   "execution_count": null,
   "metadata": {},
   "outputs": [],
   "source": []
  }
 ],
 "metadata": {
  "kernelspec": {
   "display_name": ".venv",
   "language": "python",
   "name": "python3"
  },
  "language_info": {
   "codemirror_mode": {
    "name": "ipython",
    "version": 3
   },
   "file_extension": ".py",
   "mimetype": "text/x-python",
   "name": "python",
   "nbconvert_exporter": "python",
   "pygments_lexer": "ipython3",
   "version": "3.10.9"
  }
 },
 "nbformat": 4,
 "nbformat_minor": 2
}
